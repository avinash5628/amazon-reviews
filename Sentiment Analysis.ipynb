{
 "cells": [
  {
   "cell_type": "code",
   "execution_count": 3,
   "metadata": {},
   "outputs": [],
   "source": [
    "import pandas as pd\n",
    "import numpy as np\n",
    "from nltk.tokenize import word_tokenize\n",
    "from sklearn.model_selection import train_test_split\n",
    "from nltk.corpus import stopwords\n",
    "from nltk.stem import WordNetLemmatizer,PorterStemmer\n",
    "from sklearn.feature_extraction.text import TfidfVectorizer\n",
    "from sklearn import model_selection, naive_bayes, svm\n",
    "from sklearn.metrics import accuracy_score\n",
    "\n",
    "reviews_df= pd.read_csv(r\"C:\\Users\\avinash\\Downloads\\Amazon_Reviews.csv\")\n",
    "reviews_df.shape\n",
    "\n",
    "reviews_df['Label']=reviews_df['Label'].map({'__label__2 ':1,'__label__1 ':0})\n",
    "\n",
    "y=reviews_df['Label']\n",
    "\n",
    "reviews_df.drop(columns='Label',axis=1,inplace=True)\n",
    "\n",
    "X_train,X_test,y_train,y_test=train_test_split(reviews_df,y,random_state=42,test_size=0.2)\n",
    "#X_train.iloc[0]\n"
   ]
  },
  {
   "cell_type": "code",
   "execution_count": 4,
   "metadata": {},
   "outputs": [
    {
     "name": "stderr",
     "output_type": "stream",
     "text": [
      "C:\\Users\\avinash\\Anaconda3\\lib\\site-packages\\ipykernel_launcher.py:24: SettingWithCopyWarning: \n",
      "A value is trying to be set on a copy of a slice from a DataFrame.\n",
      "Try using .loc[row_indexer,col_indexer] = value instead\n",
      "\n",
      "See the caveats in the documentation: http://pandas.pydata.org/pandas-docs/stable/indexing.html#indexing-view-versus-copy\n"
     ]
    },
    {
     "data": {
      "text/plain": [
       "183    hand track hear far complet though miss memor ...\n",
       "38     work mac clearli say line work mac os system d...\n",
       "24     like album thought would heard song two though...\n",
       "142    pattern detail sketch although excit purchas b...\n",
       "141    contemporari fairytal sure delight book take c...\n",
       "29     base review bought one glad vcr dvd earli chri...\n",
       "19     size recomend size chart real size much smalle...\n",
       "169    awesum best block ever toy grandson favorit fi...\n",
       "127    one kind book timber frame build husband love ...\n",
       "118    got fool know audio cd game thought could use ...\n",
       "56     label memphi tn come reatard front cours wild ...\n",
       "5      absolut masterpiec quit sure actual take time ...\n",
       "122    good gave 5 star littl dog much fun ripe apart...\n",
       "113    hour fun 4 6 year old purchas game year ago gi...\n",
       "93     slow dull classic 1980 style movi 2 star 5 slo...\n",
       "139    charisma henri dog daughter 6 gave henri love ...\n",
       "95     worth time book wriiten horribl would never li...\n",
       "171    great valu set incorpor lot favorit set packag...\n",
       "196    guitar absentia due respect ambient music enth...\n",
       "168    great block daughter love block get look one f...\n",
       "140    found henri dog two henri dog one lost ride wa...\n",
       "31     happi jvc nut 3 jvc televis one vcr one booksh...\n",
       "12     great read thought book brilliant yet realist ...\n",
       "35     unfortun entertain least bit first order cd fi...\n",
       "115    ddr cooool cd realli great game long verson th...\n",
       "42     alaska sourdough read book visit brother alask...\n",
       "73     use imagin 3 year old daughter love softwar ac...\n",
       "136    dont run get outrun unless 1985 outrun biggest...\n",
       "135    great graphic 2006 coast coast pc great graphi...\n",
       "51     nice money first one bought defect dvd work pu...\n",
       "                             ...                        \n",
       "48     terribl buy bought wife birthday toreturn dvd ...\n",
       "88     buyer bewar order cake topper june 27 2010 giv...\n",
       "21     delici cooki mix thought funni bought product ...\n",
       "57     either 1 5 star depend look either 1 5 star de...\n",
       "160    uh oh use brand x embarass steer clear one fol...\n",
       "191    museum exhibit insid book book librari genealo...\n",
       "129    hanford mill museum friend master carpent saw ...\n",
       "37     great play larri work muse label late 80 earli...\n",
       "157    rest stori knew someth miss first book read ma...\n",
       "187    mask maker like film everi horror like type mo...\n",
       "1      best soundtrack ever anyth read lot review say...\n",
       "52     disappoint romanian book opinion bias take ang...\n",
       "149    good song bad cover cd compil set purchas love...\n",
       "130    abl buil timber frame hous book vagu breez acr...\n",
       "151    fool bought set last novemb decid listen cd no...\n",
       "103    best seri tess lindsay content sole occup remo...\n",
       "99     caution track origin version record version wh...\n",
       "116    amaz order cd take abit get live england danc ...\n",
       "87     comfi warm run big like titl say warm comfi ru...\n",
       "74     good ok rental game pretti excit nice realli c...\n",
       "121    letter home like letter home cuz tell stori re...\n",
       "198    review pillow joke send pillow back come close...\n",
       "20     men ultrash model may ok sedentari type activ ...\n",
       "188    worst american b movi movi horror film thhat d...\n",
       "71     barbi rapunzel cri child 6 year old daughter c...\n",
       "106    authent first encount yoruba say cd realli hel...\n",
       "14     aw beyond belief feel write keep other wast mo...\n",
       "92     omg soulwax own wow like amaz album ever everi...\n",
       "179    yet anoth unsubstanti case believ discrimin ce...\n",
       "102    ye got book expect much man wrong love book ma...\n",
       "Name: Cleaned_text, Length: 159, dtype: object"
      ]
     },
     "execution_count": 4,
     "metadata": {},
     "output_type": "execute_result"
    }
   ],
   "source": [
    "from nltk.tokenize import RegexpTokenizer\n",
    "from nltk.stem import WordNetLemmatizer,PorterStemmer\n",
    "\n",
    "tokenizer = RegexpTokenizer(r'\\w+')\n",
    "lemmatizer = WordNetLemmatizer()\n",
    "stemmer=PorterStemmer()\n",
    "\n",
    "\n",
    "def preprocessing(review):\n",
    "    \n",
    "    final_tokens=' '\n",
    "    tokens=tokenizer.tokenize(review)\n",
    "    #print('Tokens:',tokens)\n",
    "    pure_tokens=[token.lower() for token in tokens if token.lower() not in stopwords.words('english')]\n",
    "    #print('Pure Tokens:',pure_tokens)\n",
    "    lemmas_tokens=[stemmer.stem(pure_token) for pure_token in pure_tokens]\n",
    "    \n",
    "    final_tokens=final_tokens.join(lemmas_tokens)\n",
    "    \n",
    "    return final_tokens\n",
    "\n",
    "\n",
    "#preprocessing('I was eating my breakfast when you were playing')\n",
    "X_train['Cleaned_text']=X_train['Review'].apply(preprocessing)\n",
    "X_train['Cleaned_text']\n"
   ]
  },
  {
   "cell_type": "code",
   "execution_count": 45,
   "metadata": {},
   "outputs": [],
   "source": [
    "vectorizer=TfidfVectorizer(stop_words='english',use_idf=True)\n",
    "\n",
    "vectorizer.fit(X_train['Cleaned_text'])\n",
    "X_train_TfIdf=vectorizer.transform(X_train['Cleaned_text'])\n",
    "\n",
    "#vectorizer.get_feature_names()"
   ]
  },
  {
   "cell_type": "code",
   "execution_count": 51,
   "metadata": {},
   "outputs": [
    {
     "name": "stderr",
     "output_type": "stream",
     "text": [
      "C:\\Users\\mmarri\\AppData\\Local\\Continuum\\anaconda3\\lib\\site-packages\\ipykernel_launcher.py:12: SettingWithCopyWarning: \n",
      "A value is trying to be set on a copy of a slice from a DataFrame.\n",
      "Try using .loc[row_indexer,col_indexer] = value instead\n",
      "\n",
      "See the caveats in the documentation: http://pandas.pydata.org/pandas-docs/stable/indexing.html#indexing-view-versus-copy\n",
      "  if sys.path[0] == '':\n"
     ]
    },
    {
     "data": {
      "text/plain": [
       "0.8533333333333333"
      ]
     },
     "execution_count": 51,
     "metadata": {},
     "output_type": "execute_result"
    },
    {
     "data": {
      "image/png": "[encoded data removed]",
      "text/plain": [
       "<Figure size 432x288 with 1 Axes>"
      ]
     },
     "metadata": {
      "needs_background": "light"
     },
     "output_type": "display_data"
    }
   ],
   "source": [
    "from sklearn.naive_bayes import MultinomialNB,GaussianNB,BernoulliNB\n",
    "from sklearn.metrics import confusion_matrix,roc_curve,roc_auc_score\n",
    "import matplotlib.pyplot as plt\n",
    "\n",
    "\n",
    "clf = MultinomialNB().fit(X_train_TfIdf.toarray(),y_train)\n",
    "\n",
    "#clf.score(X_train_TfIdf.toarray(),y_train)\n",
    "\n",
    "\n",
    "#test_review= 'That product was its absolute best and I loved using every feature of it'\n",
    "X_test['Cleaned_text']=X_test['Review'].apply(preprocessing)\n",
    "\n",
    "#processed_test_review\n",
    "X_test_tfIdf=vectorizer.transform(X_test['Cleaned_text'])\n",
    "\n",
    "y_pred=clf.predict(X_test_tfIdf.toarray())\n",
    "\n",
    "confusion_matrix(y_test,y_pred)\n",
    "\n",
    "y_proba_pred=clf.predict_proba(X_test_tfIdf.toarray())[::,1]\n",
    "\n",
    "fpr,tpr,thresholds=roc_curve(y_test,y_proba_pred)\n",
    "\n",
    "plt.plot(fpr,tpr)\n",
    "\n",
    "roc_auc_score(y_test,y_proba_pred)"
   ]
  },
  {
   "cell_type": "code",
   "execution_count": 47,
   "metadata": {},
   "outputs": [
    {
     "name": "stderr",
     "output_type": "stream",
     "text": [
      "C:\\Users\\mmarri\\AppData\\Local\\Continuum\\anaconda3\\lib\\site-packages\\sklearn\\linear_model\\logistic.py:433: FutureWarning: Default solver will be changed to 'lbfgs' in 0.22. Specify a solver to silence this warning.\n",
      "  FutureWarning)\n"
     ]
    },
    {
     "data": {
      "text/plain": [
       "0.8533333333333333"
      ]
     },
     "execution_count": 47,
     "metadata": {},
     "output_type": "execute_result"
    },
    {
     "data": {
      "image/png": "[encoded data removed]",
      "text/plain": [
       "<Figure size 432x288 with 1 Axes>"
      ]
     },
     "metadata": {
      "needs_background": "light"
     },
     "output_type": "display_data"
    }
   ],
   "source": [
    "from sklearn.linear_model import  LogisticRegression\n",
    "\n",
    "logit=LogisticRegression()\n",
    "logit.fit(X_train_TfIdf,y_train)\n",
    "y_logistic_pred=logit.predict(X_test_tfIdf)\n",
    "\n",
    "y_logistic_proba_pred=logit.predict_proba(X_test_tfIdf.toarray())[::,1]\n",
    "\n",
    "log_fpr,log_tpr,log_thresholds=roc_curve(y_test,y_logistic_proba_pred)\n",
    "\n",
    "plt.plot(log_fpr,log_tpr)\n",
    "\n",
    "roc_auc_score(y_test,y_logistic_proba_pred)\n"
   ]
  },
  {
   "cell_type": "code",
   "execution_count": null,
   "metadata": {},
   "outputs": [],
   "source": [
    "from nltk import sent_tokenize,word_tokenize\n",
    "data=\"the school is good to see in gg/.,,.[uhwwvwgwvqgss]\"\n",
    "print(word_tokenize(data))"
   ]
  }
 ],
 "metadata": {
  "kernelspec": {
   "display_name": "Python 3",
   "language": "python",
   "name": "python3"
  },
  "language_info": {
   "codemirror_mode": {
    "name": "ipython",
    "version": 3
   },
   "file_extension": ".py",
   "mimetype": "text/x-python",
   "name": "python",
   "nbconvert_exporter": "python",
   "pygments_lexer": "ipython3",
   "version": "3.7.1"
  }
 },
 "nbformat": 4,
 "nbformat_minor": 2
}
